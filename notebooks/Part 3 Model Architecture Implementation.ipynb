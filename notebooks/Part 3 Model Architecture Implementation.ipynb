version https://git-lfs.github.com/spec/v1
oid sha256:5d16de2b2c4495a3dc947549548dc102f2f8d6ee8f80b2171dcbd5391f7253f5
size 63636
