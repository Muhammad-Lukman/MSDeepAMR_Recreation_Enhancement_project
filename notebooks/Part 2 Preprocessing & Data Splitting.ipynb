version https://git-lfs.github.com/spec/v1
oid sha256:86fb24372e3ca9350f7a8fb9b2a3dd7035491e0dcaaa1a5d0b76a86abb11a970
size 345584
